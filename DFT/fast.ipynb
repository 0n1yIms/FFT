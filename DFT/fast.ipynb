{
 "cells": [
  {
   "cell_type": "code",
   "execution_count": 15,
   "metadata": {},
   "outputs": [],
   "source": [
    "from math import *\n",
    "import numpy as np\n",
    "from random import randint\n",
    "import matplotlib.pyplot as plt\n",
    "\n",
    "def conj(x):\n",
    "    return x.real - x.imag*1j"
   ]
  },
  {
   "cell_type": "markdown",
   "metadata": {},
   "source": [
    "## FFT basics"
   ]
  },
  {
   "cell_type": "code",
   "execution_count": 3,
   "metadata": {},
   "outputs": [],
   "source": [
    "''' Fast fourier transform vectorized algorithm '''\n",
    "\n",
    "def fft(X):\n",
    "    N = len(X)\n",
    "    n = int(log(N, 2))\n",
    "\n",
    "    nodes = [2**(n - i) for i in range(0, n + 1)]\n",
    "    values = [2**i for i in range(0, n + 1)]\n",
    "\n",
    "    blocks = [[[] for j in range(N)] for i in range(n + 1)]\n",
    "\n",
    "    blocks[0] = []\n",
    "    for i in range(N):\n",
    "        idx = 0\n",
    "        for j in range(n):\n",
    "            idx += 2**j * ((i // (2 ** (n - 1 - j))) % 2)\n",
    "        blocks[0].append(X[idx])\n",
    "\n",
    "    for lvl in range(1, n + 1):\n",
    "        for nd in range(nodes[lvl]):\n",
    "            for v in range(values[lvl]):\n",
    "                A = blocks[lvl - 1][values[lvl] * nd + v % values[lvl - 1]]\n",
    "                B = blocks[lvl - 1][values[lvl] * nd + v % values[lvl - 1] + values[lvl - 1]]\n",
    "\n",
    "                C = np.e ** (-2j * pi * v / values[lvl])\n",
    "\n",
    "                blocks[lvl][values[lvl] * nd + v] = A + C * B\n",
    "    return blocks[n]"
   ]
  },
  {
   "cell_type": "code",
   "execution_count": 5,
   "metadata": {},
   "outputs": [
    {
     "name": "stdout",
     "output_type": "stream",
     "text": [
      "[(4.875+0j), (-1.2437+0.0366j), 0.375j, (-0.0063-0.2134j), (-0.375+0j), (-0.0063+0.2134j), -0.375j, (-1.2437-0.0366j)]\n",
      "[(2+0j), (3+0j), (4+0j), (8+0j), (7+0j), (6+0j), (5+0j), (4+0j)]\n"
     ]
    }
   ],
   "source": [
    "''' Example with N = 8 '''\n",
    "X = [2, 3, 4, 8, 7, 6, 5, 4]\n",
    "N = len(X)\n",
    "\n",
    "Xfft = fft(X) \n",
    "for i in range(N):\n",
    "    Xfft[i] = Xfft[i] / N\n",
    "\n",
    "XfftConj = [conj(x) for x in Xfft]\n",
    "Xifft = fft(XfftConj)\n",
    "\n",
    "# round\n",
    "for i in range(N):\n",
    "    Xfft[i] = round(Xfft[i].real, 4) + round(Xfft[i].imag, 4) * 1j\n",
    "    Xifft[i] = round(Xifft[i].real, 4) + round(Xifft[i].imag, 4) * 1j\n",
    "\n",
    "print(Xfft)\n",
    "print(Xifft)"
   ]
  },
  {
   "cell_type": "markdown",
   "metadata": {},
   "source": [
    "## FFT with coeficients calculated in advance"
   ]
  },
  {
   "cell_type": "code",
   "execution_count": 58,
   "metadata": {},
   "outputs": [],
   "source": [
    "''' FFT vectorized with coeficients calculated in advance '''\n",
    "\n",
    "def fftv(X):\n",
    "    N = len(X)\n",
    "    n = int(log(N, 2))\n",
    "    lvls = n + 1\n",
    "\n",
    "    nodes = [2**(n - i) for i in range(0, lvls)]\n",
    "    values = [2**i for i in range(0, lvls)]\n",
    "\n",
    "    Coef = [([np.e ** (-2j * pi * v / values[lvl]) for v in range(values[lvl])]) for lvl in range(lvls)]\n",
    "\n",
    "    index0 = []\n",
    "    for i in range(N):\n",
    "        idx = 0\n",
    "        for j in range(n):\n",
    "            idx += 2**j * ((i // (2 ** (n - 1 - j))) % 2)\n",
    "        index0.append(idx)\n",
    "\n",
    "    blocks = [[[] for j in range(N)] for i in range(lvls)]\n",
    "\n",
    "    blocks[0] = []\n",
    "    for i in range(N):\n",
    "        blocks[0].append(X[index0[i]])\n",
    "        \n",
    "    # for i in range(N):\n",
    "        # idx = 0\n",
    "        # for j in range(n):\n",
    "            # idx += 2**j * ((i // (2 ** (n - 1 - j))) % 2)\n",
    "        # blocks[0].append(X[idx])\n",
    "\n",
    "    for lvl in range(1, lvls):\n",
    "        for nd in range(nodes[lvl]):\n",
    "            for v in range(values[lvl]):\n",
    "                A = blocks[lvl - 1][values[lvl] * nd + v % values[lvl - 1]]\n",
    "                B = blocks[lvl - 1][values[lvl] * nd + v % values[lvl - 1] + values[lvl - 1]]\n",
    "\n",
    "                C = Coef[lvl][v]\n",
    "                # C = np.e ** (-2j * pi * v / values[lvl])\n",
    "\n",
    "                blocks[lvl][values[lvl] * nd + v] = A + C * B\n",
    "    return blocks[n]\n"
   ]
  },
  {
   "cell_type": "code",
   "execution_count": 59,
   "metadata": {},
   "outputs": [
    {
     "name": "stdout",
     "output_type": "stream",
     "text": [
      "[(4.875+0j), (-1.2437+0.0366j), 0.375j, (-0.0063-0.2134j), (-0.375+0j), (-0.0063+0.2134j), -0.375j, (-1.2437-0.0366j)]\n",
      "[(2+0j), (3+0j), (4+0j), (8+0j), (7+0j), (6+0j), (5+0j), (4+0j)]\n"
     ]
    }
   ],
   "source": [
    "''' Example of FFT vectorized with coeficients calculated in advance '''\n",
    "\n",
    "X = [2, 3, 4, 8, 7, 6, 5, 4]\n",
    "N = len(X)\n",
    "\n",
    "Xfft = fftv(X) \n",
    "for i in range(N):\n",
    "    Xfft[i] = Xfft[i] / N\n",
    "\n",
    "XfftConj = [conj(x) for x in Xfft]\n",
    "Xifft = fftv(XfftConj)\n",
    "\n",
    "# round\n",
    "for i in range(N):\n",
    "    Xfft[i] = round(Xfft[i].real, 4) + round(Xfft[i].imag, 4) * 1j\n",
    "    Xifft[i] = round(Xifft[i].real, 4) + round(Xifft[i].imag, 4) * 1j\n",
    "\n",
    "print(Xfft)\n",
    "print(Xifft)"
   ]
  },
  {
   "cell_type": "code",
   "execution_count": 13,
   "metadata": {},
   "outputs": [
    {
     "name": "stdout",
     "output_type": "stream",
     "text": [
      "[4, 4, 0, 3, 4, 3, 8, 3, 0, 2, 5, 8, 10, 1, 5, 2]\n",
      "[(3.875+0j), (-0.2132+0.5649j), (-0.8018+0.1464j), (1.0317-0.5316j), 0.375j, (0.1754+0.0416j), (-0.4482-0.8536j), (0.0061-0.3619j), (0.625+0j), (0.0061+0.3619j), (-0.4482+0.8536j), (0.1754-0.0416j), -0.375j, (1.0317+0.5316j), (-0.8018-0.1464j), (-0.2132-0.5649j)]\n",
      "[(4+0j), (4+0j), 0j, (3+0j), (4+0j), (3+0j), (8+0j), (3+0j), 0j, (2+0j), (5+0j), (8+0j), (10+0j), (1+0j), (5+0j), (2+0j)]\n"
     ]
    }
   ],
   "source": [
    "''' Example with N = 16 '''\n",
    "X = [randint(0, 10) for i in range(16)]\n",
    "N = len(X)\n",
    "print(X)\n",
    "\n",
    "Xfft = fftv(X) \n",
    "for i in range(N):\n",
    "    Xfft[i] = Xfft[i] / N\n",
    "\n",
    "XfftConj = [conj(x) for x in Xfft]\n",
    "Xifft = fftv(XfftConj)\n",
    "\n",
    "# round\n",
    "for i in range(N):\n",
    "    Xfft[i] = round(Xfft[i].real, 4) + round(Xfft[i].imag, 4) * 1j\n",
    "    Xifft[i] = round(Xifft[i].real, 4) + round(Xifft[i].imag, 4) * 1j\n",
    "\n",
    "print(Xfft)\n",
    "print(Xifft)"
   ]
  },
  {
   "cell_type": "markdown",
   "metadata": {},
   "source": [
    "#### Indexing of FFT (level0)"
   ]
  },
  {
   "cell_type": "code",
   "execution_count": 64,
   "metadata": {},
   "outputs": [
    {
     "name": "stdout",
     "output_type": "stream",
     "text": [
      "[0, 8, 4, 12, 2, 10, 6, 14, 1, 9, 5, 13, 3, 11, 7, 15]\n"
     ]
    }
   ],
   "source": [
    "''' indexing for N = 16 '''\n",
    "N = 16\n",
    "n = int(log(N, 2))\n",
    "lvls = n + 1\n",
    "\n",
    "index0 = []\n",
    "for i in range(N):\n",
    "    idx = 0\n",
    "    for j in range(n):\n",
    "        idx += 2**j * ((i // (2 ** (n - 1 - j))) % 2)\n",
    "    index0.append(idx)\n",
    "        \n",
    "print(index0)"
   ]
  },
  {
   "cell_type": "markdown",
   "metadata": {},
   "source": [
    "#### Coeficients of FFT for N = 16\n"
   ]
  },
  {
   "cell_type": "code",
   "execution_count": 66,
   "metadata": {},
   "outputs": [
    {
     "name": "stdout",
     "output_type": "stream",
     "text": [
      "size:  31   31\n",
      "real:\n",
      "1.000000000000000,\n",
      "1.000000000000000,\n",
      "-1.000000000000000,\n",
      "1.000000000000000,\n",
      "0.000000000000000,\n",
      "-1.000000000000000,\n",
      "-0.000000000000000,\n",
      "1.000000000000000,\n",
      "0.707106781186548,\n",
      "0.000000000000000,\n",
      "-0.707106781186547,\n",
      "-1.000000000000000,\n",
      "-0.707106781186548,\n",
      "-0.000000000000000,\n",
      "0.707106781186547,\n",
      "1.000000000000000,\n",
      "0.923879532511287,\n",
      "0.707106781186548,\n",
      "0.382683432365090,\n",
      "0.000000000000000,\n",
      "-0.382683432365090,\n",
      "-0.707106781186547,\n",
      "-0.923879532511287,\n",
      "-1.000000000000000,\n",
      "-0.923879532511287,\n",
      "-0.707106781186548,\n",
      "-0.382683432365090,\n",
      "-0.000000000000000,\n",
      "0.382683432365090,\n",
      "0.707106781186547,\n",
      "0.923879532511287,\n",
      "imag:\n",
      "0.000000000000000,\n",
      "0.000000000000000,\n",
      "-0.000000000000000,\n",
      "0.000000000000000,\n",
      "-1.000000000000000,\n",
      "-0.000000000000000,\n",
      "1.000000000000000,\n",
      "0.000000000000000,\n",
      "-0.707106781186548,\n",
      "-1.000000000000000,\n",
      "-0.707106781186548,\n",
      "-0.000000000000000,\n",
      "0.707106781186547,\n",
      "1.000000000000000,\n",
      "0.707106781186548,\n",
      "0.000000000000000,\n",
      "-0.382683432365090,\n",
      "-0.707106781186548,\n",
      "-0.923879532511287,\n",
      "-1.000000000000000,\n",
      "-0.923879532511287,\n",
      "-0.707106781186548,\n",
      "-0.382683432365090,\n",
      "-0.000000000000000,\n",
      "0.382683432365090,\n",
      "0.707106781186547,\n",
      "0.923879532511287,\n",
      "1.000000000000000,\n",
      "0.923879532511287,\n",
      "0.707106781186548,\n",
      "0.382683432365090,\n"
     ]
    }
   ],
   "source": [
    "''' Coeficients for N = 16 '''\n",
    "N = 16\n",
    "n = int(log(N, 2))\n",
    "lvls = n + 1\n",
    "# nodes = [16, 8, 4, 2, 1]\n",
    "nodes = [2**(n - i) for i in range(0, lvls)]\n",
    "\n",
    "# values = [1, 2, 4, 8, 16]\n",
    "values = [2**i for i in range(0, lvls)]\n",
    "\n",
    "coef = [([np.e ** (-2j * pi * v / values[lvl]) for v in range(values[lvl])]) for lvl in range(lvls)]\n",
    "\n",
    "\n",
    "# coefSize = 16 + 8 + 4 + 2 + 1 = 2**(lvls) - 1\n",
    "coefSize = 0\n",
    "for i in range(lvls):\n",
    "    coefSize += 2**i\n",
    "print(\"size: \", coefSize)\n",
    "\n",
    "print(\"real:\")\n",
    "for lvl in range(lvls):\n",
    "    for v in range(values[lvl]):\n",
    "        print (f\"{coef[lvl][v].real:.15f},\")\n",
    "print(\"imag:\")\n",
    "for lvl in range(lvls):\n",
    "    for v in range(values[lvl]):\n",
    "        print (f\"{coef[lvl][v].imag:.15f},\")\n",
    "\n",
    "# print(\"size: \", len(Coef[0]) * len(Coef[0][0]) * )"
   ]
  },
  {
   "cell_type": "code",
   "execution_count": 68,
   "metadata": {},
   "outputs": [
    {
     "name": "stdout",
     "output_type": "stream",
     "text": [
      "1.000000000000000,\n",
      "1.000000000000000,\n",
      "-1.000000000000000,\n",
      "1.000000000000000,\n",
      "0.000000000000000,\n",
      "-1.000000000000000,\n",
      "-0.000000000000000,\n",
      "1.000000000000000,\n",
      "0.707106781186548,\n",
      "0.000000000000000,\n",
      "-0.707106781186547,\n",
      "-1.000000000000000,\n",
      "-0.707106781186548,\n",
      "-0.000000000000000,\n",
      "0.707106781186547,\n",
      "1.000000000000000,\n",
      "0.923879532511287,\n",
      "0.707106781186548,\n",
      "0.382683432365090,\n",
      "0.000000000000000,\n",
      "-0.382683432365090,\n",
      "-0.707106781186547,\n",
      "-0.923879532511287,\n",
      "-1.000000000000000,\n",
      "-0.923879532511287,\n",
      "-0.707106781186548,\n",
      "-0.382683432365090,\n",
      "-0.000000000000000,\n",
      "0.382683432365090,\n",
      "0.707106781186547,\n",
      "0.923879532511287,\n"
     ]
    }
   ],
   "source": [
    "''' Indexing of coeficients for N = 16 '''\n",
    "N = 16\n",
    "n = int(log(N, 2))  # 4\n",
    "lvls = n + 1        # 5\n",
    "# nodes = [16, 8, 4, 2, 1]\n",
    "nodes = [16, 8, 4, 2, 1]\n",
    "\n",
    "# values = [1, 2, 4, 8, 16]\n",
    "values = [1, 2, 4, 8, 16]\n",
    "real = [\n",
    "1.000000000000000,      # value 0, lvl 0\n",
    "1.000000000000000,      # value 0, lvl 1\n",
    "-1.000000000000000,     # value 1, lvl 1\n",
    "1.000000000000000,      # value 0, lvl 2\n",
    "0.000000000000000,      # value 1, lvl 2\n",
    "-1.000000000000000,     # value 2, lvl 2\n",
    "-0.000000000000000,     # value 3, lvl 2\n",
    "1.000000000000000,      # value 0, lvl 3\n",
    "0.707106781186548,      # value 1, lvl 3\n",
    "0.000000000000000,      # value 2, lvl 3\n",
    "-0.707106781186547,     # value 3, lvl 3\n",
    "-1.000000000000000,     # value 4, lvl 3\n",
    "-0.707106781186548,     # value 5, lvl 3\n",
    "-0.000000000000000,     # value 6, lvl 3\n",
    "0.707106781186547,      # value 7, lvl 3\n",
    "1.000000000000000,      # value 0, lvl 4\n",
    "0.923879532511287,      # value 1, lvl 4\n",
    "0.707106781186548,      # value 2, lvl 4\n",
    "0.382683432365090,      # value 3, lvl 4\n",
    "0.000000000000000,      # value 4, lvl 4\n",
    "-0.382683432365090,     # value 5, lvl 4\n",
    "-0.707106781186547,     # value 6, lvl 4\n",
    "-0.923879532511287,     # value 7, lvl 4\n",
    "-1.000000000000000,     # value 8, lvl 4\n",
    "-0.923879532511287,     # value 9, lvl 4\n",
    "-0.707106781186548,     # value 10, lvl 4\n",
    "-0.382683432365090,     # value 11, lvl 4\n",
    "-0.000000000000000,     # value 12, lvl 4\n",
    "0.382683432365090,      # value 13, lvl 4\n",
    "0.707106781186547,      # value 14, lvl 4\n",
    "0.923879532511287       # value 15, lvl 4\n",
    "]\n",
    "imag = [\n",
    "0.000000000000000,      # value 0, lvl 0\n",
    "0.000000000000000,      # value 0, lvl 1\n",
    "-0.000000000000000,     # value 1, lvl 1\n",
    "0.000000000000000,      # value 0, lvl 2\n",
    "-1.000000000000000,     # value 1, lvl 2\n",
    "-0.000000000000000,     # value 2, lvl 2\n",
    "1.000000000000000,      # value 3, lvl 2\n",
    "0.000000000000000,      # value 0, lvl 3\n",
    "-0.707106781186548,     # value 1, lvl 3\n",
    "-1.000000000000000,     # value 2, lvl 3\n",
    "-0.707106781186548,     # value 3, lvl 3\n",
    "-0.000000000000000,     # value 4, lvl 3\n",
    "0.707106781186547,      # value 5, lvl 3\n",
    "1.000000000000000,      # value 6, lvl 3\n",
    "0.707106781186548,      # value 7, lvl 3\n",
    "0.000000000000000,      # value 0, lvl 4\n",
    "-0.382683432365090,     # value 1, lvl 4\n",
    "-0.707106781186548,     # value 2, lvl 4\n",
    "-0.923879532511287,     # value 3, lvl 4\n",
    "-1.000000000000000,     # value 4, lvl 4\n",
    "-0.923879532511287,     # value 5, lvl 4\n",
    "-0.707106781186548,     # value 6, lvl 4\n",
    "-0.382683432365090,     # value 7, lvl 4\n",
    "-0.000000000000000,     # value 8, lvl 4\n",
    "0.382683432365090,      # value 9, lvl 4\n",
    "0.707106781186547,      # value 10, lvl 4\n",
    "0.923879532511287,      # value 11, lvl 4\n",
    "1.000000000000000,      # value 12, lvl 4\n",
    "0.923879532511287,      # value 13, lvl 4\n",
    "0.707106781186548,      # value 14, lvl 4\n",
    "0.382683432365090       # value 15, lvl 4\n",
    "]\n",
    "\n",
    "''' \n",
    "lvl0 -> 0\n",
    "lvl1 -> len(values[0]) = 1\n",
    "lvl2 -> len(values[1]) = 2\n",
    "lvl3 -> len(values[2]) = 4\n",
    "lvl4 -> len(values[3]) = 8\n",
    "\n",
    "[\n",
    "    lvl0,                                   0\n",
    "    lvl0 + lvl1,                            1\n",
    "    lvl0 + lvl1 + lvl2,                     3\n",
    "    lvl0 + lvl1 + lvl2 + lvl3,              7\n",
    "    lvl0 + lvl1 + lvl2 + lvl3 + lvl4        15\n",
    "]\n",
    "'''\n",
    "indexingStride = [0, 1, 3, 7, 15]\n",
    "\n",
    "def eReal(v, lvl):\n",
    "    return real[v + indexingStride[lvl]]\n",
    "\n",
    "for lvl in range(lvls):\n",
    "    for v in range(values[lvl]):\n",
    "        print (f\"{eReal(v, lvl):.15f},\")\n"
   ]
  },
  {
   "cell_type": "markdown",
   "metadata": {},
   "source": [
    "## FFT2D\n",
    "implementation of fft in a tile"
   ]
  },
  {
   "cell_type": "code",
   "execution_count": 60,
   "metadata": {},
   "outputs": [
    {
     "data": {
      "image/png": "[encoded data removed]",
      "text/plain": [
       "<Figure size 640x480 with 2 Axes>"
      ]
     },
     "metadata": {},
     "output_type": "display_data"
    }
   ],
   "source": [
    "N = 16\n",
    "img = [[randint(0, 10) for i in range(N)] for j in range(N)];\n",
    "\n",
    "# Graficar la matriz\n",
    "plt.imshow(img, cmap='viridis', interpolation='nearest')\n",
    "plt.colorbar()  # Mostrar barra de color para la escala\n",
    "plt.show()"
   ]
  },
  {
   "cell_type": "code",
   "execution_count": 61,
   "metadata": {},
   "outputs": [
    {
     "data": {
      "image/png": "[encoded data removed]",
      "text/plain": [
       "<Figure size 640x480 with 2 Axes>"
      ]
     },
     "metadata": {},
     "output_type": "display_data"
    },
    {
     "data": {
      "image/png": "[encoded data removed]",
      "text/plain": [
       "<Figure size 640x480 with 2 Axes>"
      ]
     },
     "metadata": {},
     "output_type": "display_data"
    }
   ],
   "source": [
    "# print (img)\n",
    "imgfp = img.copy()\n",
    "for i in range(N):\n",
    "    # print(\"img[i]:\", img[i])\n",
    "    linefft = fftv(img[i])\n",
    "    # print(linefft)\n",
    "    imgfp[i] = [linefft[j] for j in range(N)]\n",
    "imgreal = [[imgfp[i][j].real for j in range(N)] for i in range(N)]\n",
    "imgimag = [[imgfp[i][j].imag for j in range(N)] for i in range(N)]\n",
    "\n",
    "# Graficar la matriz\n",
    "plt.imshow(imgreal, cmap='viridis', interpolation='nearest')\n",
    "plt.colorbar()  # Mostrar barra de color para la escala\n",
    "plt.show()\n",
    "\n",
    "plt.imshow(imgimag, cmap='viridis', interpolation='nearest')\n",
    "plt.colorbar()  # Mostrar barra de color para la escala\n",
    "plt.show()"
   ]
  },
  {
   "cell_type": "code",
   "execution_count": 62,
   "metadata": {},
   "outputs": [
    {
     "data": {
      "image/png": "[encoded data removed]",
      "text/plain": [
       "<Figure size 640x480 with 2 Axes>"
      ]
     },
     "metadata": {},
     "output_type": "display_data"
    },
    {
     "data": {
      "image/png": "[encoded data removed]",
      "text/plain": [
       "<Figure size 640x480 with 2 Axes>"
      ]
     },
     "metadata": {},
     "output_type": "display_data"
    }
   ],
   "source": [
    "# print (img)\n",
    "imgsp = img.copy()\n",
    "for i in range(N):\n",
    "    # print(\"img[i]:\", img[i])\n",
    "    linefft = fftv([imgfp[j][i] for j in range(N)])\n",
    "    # print(linefft)\n",
    "    for j in range(N):\n",
    "        imgsp[j][i] = linefft[j]\n",
    "\n",
    "imgreal = [[imgsp[i][j].real for j in range(N)] for i in range(N)]\n",
    "imgimag = [[imgsp[i][j].imag for j in range(N)] for i in range(N)]\n",
    "\n",
    "# Graficar la matriz\n",
    "# plt.imshow(img, cmap='viridis', interpolation='nearest')\n",
    "plt.imshow(imgreal, cmap='viridis', interpolation='nearest')\n",
    "plt.colorbar()  # Mostrar barra de color para la escala\n",
    "plt.show()\n",
    "\n",
    "plt.imshow(imgimag, cmap='viridis', interpolation='nearest')\n",
    "plt.colorbar()  # Mostrar barra de color para la escala\n",
    "plt.show()"
   ]
  },
  {
   "cell_type": "markdown",
   "metadata": {},
   "source": [
    "## Faster FFT"
   ]
  },
  {
   "cell_type": "code",
   "execution_count": 93,
   "metadata": {},
   "outputs": [],
   "source": [
    "def fftf(X):\n",
    "    N = len(X)\n",
    "    n = int(log(N, 2))\n",
    "    lvls = n + 1\n",
    "\n",
    "    nodes = [2**(n - i) for i in range(0, n + 1)]\n",
    "    values = [2**i for i in range(0, n + 1)]\n",
    "    \n",
    "    Coef = [([np.e ** (-2j * pi * v / values[lvl]) for v in range(values[lvl])]) for lvl in range(lvls)]\n",
    "\n",
    "    index0 = []\n",
    "    for i in range(N):\n",
    "        idx = 0\n",
    "        for j in range(n):\n",
    "            idx += 2**j * ((i // (2 ** (n - 1 - j))) % 2)\n",
    "        index0.append(idx)\n",
    "\n",
    "    blocks = [[[] for j in range(N)] for i in range(2)]\n",
    "\n",
    "    # blocks[0] = []\n",
    "    for i in range(N):\n",
    "        blocks[0][i] = X[index0[i]]\n",
    "\n",
    "    for lvl in range(1, n + 1):\n",
    "        for nd in range(nodes[lvl]):\n",
    "            for v in range(values[lvl]):\n",
    "                A = blocks[(lvl + 1) % 2][values[lvl] * nd + v % values[lvl - 1]]\n",
    "                B = blocks[(lvl + 1) % 2][values[lvl] * nd + v % values[lvl - 1] + values[lvl - 1]]\n",
    "\n",
    "                C = Coef[lvl][v]\n",
    "\n",
    "                blocks[lvl % 2][values[lvl] * nd + v] = A + C * B\n",
    "            \n",
    "    return blocks[n % 2]"
   ]
  },
  {
   "cell_type": "code",
   "execution_count": 94,
   "metadata": {},
   "outputs": [
    {
     "name": "stdout",
     "output_type": "stream",
     "text": [
      "[(4.875+0j), (-1.2437+0.0366j), 0.375j, (-0.0063-0.2134j), (-0.375+0j), (-0.0063+0.2134j), -0.375j, (-1.2437-0.0366j)]\n",
      "[(2+0j), (3+0j), (4+0j), (8+0j), (7+0j), (6+0j), (5+0j), (4+0j)]\n"
     ]
    }
   ],
   "source": [
    "''' Example with N = 8 '''\n",
    "X = [2, 3, 4, 8, 7, 6, 5, 4]\n",
    "N = len(X)\n",
    "\n",
    "Xfft = fftf(X) \n",
    "for i in range(N):\n",
    "    Xfft[i] = Xfft[i] / N\n",
    "\n",
    "XfftConj = [conj(x) for x in Xfft]\n",
    "Xifft = fftf(XfftConj)\n",
    "\n",
    "# round\n",
    "for i in range(N):\n",
    "    Xfft[i] = round(Xfft[i].real, 4) + round(Xfft[i].imag, 4) * 1j\n",
    "    Xifft[i] = round(Xifft[i].real, 4) + round(Xifft[i].imag, 4) * 1j\n",
    "\n",
    "print(Xfft)\n",
    "print(Xifft)"
   ]
  }
 ],
 "metadata": {
  "kernelspec": {
   "display_name": "Python 3",
   "language": "python",
   "name": "python3"
  },
  "language_info": {
   "codemirror_mode": {
    "name": "ipython",
    "version": 3
   },
   "file_extension": ".py",
   "mimetype": "text/x-python",
   "name": "python",
   "nbconvert_exporter": "python",
   "pygments_lexer": "ipython3",
   "version": "3.10.9"
  },
  "orig_nbformat": 4
 },
 "nbformat": 4,
 "nbformat_minor": 2
}
